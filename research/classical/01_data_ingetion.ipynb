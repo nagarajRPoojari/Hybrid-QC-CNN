{
 "cells": [
  {
   "cell_type": "code",
   "execution_count": 1,
   "metadata": {},
   "outputs": [],
   "source": [
    "import os "
   ]
  },
  {
   "cell_type": "code",
   "execution_count": 2,
   "metadata": {},
   "outputs": [],
   "source": [
    "os.chdir('../')"
   ]
  },
  {
   "cell_type": "code",
   "execution_count": 3,
   "metadata": {},
   "outputs": [],
   "source": [
    "from dataclasses import dataclass\n",
    "from pathlib import Path\n",
    "@dataclass(frozen=True)\n",
    "class DataIngetionConfig:\n",
    "    root_dir:Path \n",
    "    local_data_file:Path\n",
    "    unzip_dir:Path"
   ]
  },
  {
   "cell_type": "code",
   "execution_count": 4,
   "metadata": {},
   "outputs": [],
   "source": [
    "from HybridQCCNN.constants import *\n",
    "from HybridQCCNN.utils.common import read_yaml, create_directories, get_size"
   ]
  },
  {
   "cell_type": "code",
   "execution_count": 11,
   "metadata": {},
   "outputs": [],
   "source": [
    "class ConfigurationManager:\n",
    "    def __init__(self,\n",
    "                 config_file_path=CONFIG_FILE_PATH,\n",
    "                 params_file_path=PARAMS_FILE_PATH):\n",
    "        self.config=read_yaml(config_file_path)\n",
    "        self.params=read_yaml(params_file_path)\n",
    "\n",
    "        \n",
    "    def get_data_ingetion_config(self)-> DataIngetionConfig:\n",
    "        \n",
    "        config=self.config.data_ingetion\n",
    "        \n",
    "        create_directories([config.root_dir])\n",
    "        data_ingetion_config=DataIngetionConfig(\n",
    "            root_dir=config.root_dir,\n",
    "            local_data_file=config.local_data_file,\n",
    "            unzip_dir=config.unzip_dir\n",
    "        )\n",
    "        return data_ingetion_config     "
   ]
  },
  {
   "cell_type": "code",
   "execution_count": 12,
   "metadata": {},
   "outputs": [],
   "source": [
    "from urllib import request\n",
    "from zipfile import ZipFile\n",
    "from HybridQCCNN.logging import logger\n",
    "from HybridQCCNN.utils.common import get_size"
   ]
  },
  {
   "cell_type": "code",
   "execution_count": 15,
   "metadata": {},
   "outputs": [],
   "source": [
    "class DataIngetion:\n",
    "    def __init__(self,\n",
    "                 config:DataIngetionConfig):\n",
    "        \n",
    "        self.config=config\n",
    "    \n",
    "    def download_data(self):\n",
    "        logger.info(f\"data downloaded!\")\n",
    "        return \n",
    "        if not os.path.exists(self.config.local_data_file):\n",
    "            filename, header=request.urlretrieve(\n",
    "                url=self.config.source_url,\n",
    "                filename=self.config.local_data_file\n",
    "            )\n",
    "            logger.info(f\"{filename} download! with following info: \\n{header}\")\n",
    "        else:\n",
    "            logger.info(f\"File already exists of size: {get_size(Path(self.config.local_data_file))}\")  \n",
    "            \n",
    "        \n",
    "    def unzip_data(self):\n",
    "        unzip_dir=self.config.unzip_dir\n",
    "        os.makedirs(unzip_dir,exist_ok=True)\n",
    "        with ZipFile(self.config.local_data_file,'r') as data_file:\n",
    "            data_file.extractall(unzip_dir)    "
   ]
  },
  {
   "cell_type": "code",
   "execution_count": 17,
   "metadata": {},
   "outputs": [
    {
     "name": "stdout",
     "output_type": "stream",
     "text": [
      "[2024-01-08 20:26:31,192 : INFO : common : yaml file: config\\config.yaml loaded successfully]\n",
      "[2024-01-08 20:26:31,195 : INFO : common : yaml file: params.yaml loaded successfully]\n",
      "[2024-01-08 20:26:31,196 : INFO : common : created directory at: dataset/data_ingestion]\n",
      "[2024-01-08 20:26:31,197 : INFO : 1792533023 : data downloaded!]\n"
     ]
    }
   ],
   "source": [
    "try:\n",
    "    config=ConfigurationManager()\n",
    "    data_ingetion_config=config.get_data_ingetion_config()\n",
    "    data_ingetion=DataIngetion(data_ingetion_config)\n",
    "    data_ingetion.download_data()\n",
    "    data_ingetion.unzip_data()\n",
    "except Exception as e:\n",
    "    raise e"
   ]
  },
  {
   "cell_type": "code",
   "execution_count": null,
   "metadata": {},
   "outputs": [],
   "source": []
  }
 ],
 "metadata": {
  "kernelspec": {
   "display_name": "cirq",
   "language": "python",
   "name": "python3"
  },
  "language_info": {
   "codemirror_mode": {
    "name": "ipython",
    "version": 3
   },
   "file_extension": ".py",
   "mimetype": "text/x-python",
   "name": "python",
   "nbconvert_exporter": "python",
   "pygments_lexer": "ipython3",
   "version": "3.8.18"
  }
 },
 "nbformat": 4,
 "nbformat_minor": 2
}
