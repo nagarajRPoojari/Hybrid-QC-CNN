{
 "cells": [
  {
   "cell_type": "code",
   "execution_count": 1,
   "metadata": {},
   "outputs": [],
   "source": [
    "import tensorflow as tf\n",
    "from tensorflow.keras.preprocessing.image import ImageDataGenerator"
   ]
  },
  {
   "cell_type": "code",
   "execution_count": 2,
   "metadata": {},
   "outputs": [],
   "source": [
    "import os"
   ]
  },
  {
   "cell_type": "code",
   "execution_count": 3,
   "metadata": {},
   "outputs": [],
   "source": [
    "os.chdir('../')"
   ]
  },
  {
   "cell_type": "code",
   "execution_count": 4,
   "metadata": {},
   "outputs": [],
   "source": [
    "from dataclasses import dataclass\n",
    "from pathlib import Path\n",
    "@dataclass(frozen=True)\n",
    "class DataIngetionConfig:\n",
    "    root_dir:Path \n",
    "    local_data_file:Path\n",
    "    unzip_dir:Path"
   ]
  },
  {
   "cell_type": "code",
   "execution_count": 5,
   "metadata": {},
   "outputs": [],
   "source": [
    "from HybridQCCNN.constants import *\n",
    "from HybridQCCNN.utils.common import read_yaml, create_directories, get_size"
   ]
  },
  {
   "cell_type": "code",
   "execution_count": 6,
   "metadata": {},
   "outputs": [],
   "source": [
    "class ConfigurationManager:\n",
    "    def __init__(self,\n",
    "                 config_file_path=CONFIG_FILE_PATH,\n",
    "                 params_file_path=PARAMS_FILE_PATH):\n",
    "        self.config=read_yaml(config_file_path)\n",
    "        self.params=read_yaml(params_file_path)\n",
    "\n",
    "        \n",
    "    def get_data_ingetion_config(self)-> DataIngetionConfig:\n",
    "        \n",
    "        config=self.config.data_ingetion\n",
    "        \n",
    "        create_directories([config.root_dir])\n",
    "        data_ingetion_config=DataIngetionConfig(\n",
    "            root_dir=config.root_dir,\n",
    "            local_data_file=config.local_data_file,\n",
    "            unzip_dir=config.unzip_dir\n",
    "        )\n",
    "        return data_ingetion_config   "
   ]
  },
  {
   "cell_type": "code",
   "execution_count": 7,
   "metadata": {},
   "outputs": [],
   "source": [
    "from urllib import request\n",
    "from zipfile import ZipFile\n",
    "from HybridQCCNN.logging import logger\n",
    "from HybridQCCNN.utils.common import get_size"
   ]
  },
  {
   "cell_type": "code",
   "execution_count": 25,
   "metadata": {},
   "outputs": [],
   "source": [
    "class DataTransformation:\n",
    "    def __init__(self,\n",
    "                 config:DataIngetionConfig):\n",
    "        \n",
    "        self.config=config\n",
    "    \n",
    "    def data_loader(self):\n",
    "        image_dir=self.config.unzip_dir\n",
    "        datagen = ImageDataGenerator(\n",
    "            rescale=1./255,\n",
    "            \n",
    "        )    \n",
    "        batch_size = 32\n",
    "        train_data = tf.keras.preprocessing.image_dataset_from_directory(\n",
    "            image_dir,\n",
    "            image_size=(224, 224),\n",
    "            batch_size=batch_size,\n",
    "            label_mode='categorical', \n",
    "            validation_split=0.2,\n",
    "            seed=42,\n",
    "            subset='training',\n",
    "            color_mode='grayscale'\n",
    "        )\n",
    "        \n",
    "        self.train_data = train_data.prefetch(buffer_size=tf.data.experimental.AUTOTUNE)\n",
    "        return self.train_data\n",
    "        \n",
    "       "
   ]
  },
  {
   "cell_type": "code",
   "execution_count": 26,
   "metadata": {},
   "outputs": [
    {
     "name": "stdout",
     "output_type": "stream",
     "text": [
      "[2024-01-08 22:04:56,409 : INFO : common : yaml file: config\\config.yaml loaded successfully]\n",
      "[2024-01-08 22:04:56,414 : INFO : common : yaml file: params.yaml loaded successfully]\n",
      "[2024-01-08 22:04:56,417 : INFO : common : created directory at: dataset/data_ingestion]\n",
      "Found 13711 files belonging to 23 classes.\n",
      "Using 10969 files for training.\n"
     ]
    }
   ],
   "source": [
    "try:\n",
    "    config=ConfigurationManager()\n",
    "    data_ingetion_config=config.get_data_ingetion_config()\n",
    "    data_ingetion=DataTransformation(data_ingetion_config)\n",
    "    train_data=data_ingetion.data_loader()\n",
    "except Exception as e:\n",
    "    raise e"
   ]
  },
  {
   "cell_type": "code",
   "execution_count": null,
   "metadata": {},
   "outputs": [],
   "source": []
  }
 ],
 "metadata": {
  "kernelspec": {
   "display_name": "cirq",
   "language": "python",
   "name": "python3"
  },
  "language_info": {
   "codemirror_mode": {
    "name": "ipython",
    "version": 3
   },
   "file_extension": ".py",
   "mimetype": "text/x-python",
   "name": "python",
   "nbconvert_exporter": "python",
   "pygments_lexer": "ipython3",
   "version": "3.8.18"
  }
 },
 "nbformat": 4,
 "nbformat_minor": 2
}
